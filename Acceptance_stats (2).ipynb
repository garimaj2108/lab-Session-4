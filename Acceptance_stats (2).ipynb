{
 "cells": [
  {
   "cell_type": "code",
   "execution_count": 1,
   "metadata": {
    "collapsed": true
   },
   "outputs": [],
   "source": [
    "import pandas as pd"
   ]
  },
  {
   "cell_type": "code",
   "execution_count": 7,
   "metadata": {
    "collapsed": true
   },
   "outputs": [],
   "source": [
    "url = 'http://blog.collegetuitioncompare.com/2013/08/top-10-management-information-systems-college-tuition-comaprison.html'"
   ]
  },
  {
   "cell_type": "code",
   "execution_count": 8,
   "metadata": {
    "collapsed": true
   },
   "outputs": [],
   "source": [
    "data = pd.read_html(url, header = 0)"
   ]
  },
  {
   "cell_type": "code",
   "execution_count": 9,
   "metadata": {
    "collapsed": true
   },
   "outputs": [],
   "source": [
    "read_data = data[0]"
   ]
  },
  {
   "cell_type": "code",
   "execution_count": 10,
   "metadata": {
    "collapsed": false
   },
   "outputs": [
    {
     "data": {
      "text/html": [
       "<div>\n",
       "<table border=\"1\" class=\"dataframe\">\n",
       "  <thead>\n",
       "    <tr style=\"text-align: right;\">\n",
       "      <th></th>\n",
       "      <th>Rank</th>\n",
       "      <th>Name</th>\n",
       "      <th>Acceptance Rates</th>\n",
       "      <th>Population</th>\n",
       "      <th>Student Faculty Ratio</th>\n",
       "    </tr>\n",
       "  </thead>\n",
       "  <tbody>\n",
       "    <tr>\n",
       "      <th>0</th>\n",
       "      <td>1</td>\n",
       "      <td>Massachusetts Institute of Technology  Cambrid...</td>\n",
       "      <td>8%</td>\n",
       "      <td>11301</td>\n",
       "      <td>12.50 %</td>\n",
       "    </tr>\n",
       "    <tr>\n",
       "      <th>1</th>\n",
       "      <td>2</td>\n",
       "      <td>Carnegie Mellon University  Pittsburgh, PA</td>\n",
       "      <td>25%</td>\n",
       "      <td>12367</td>\n",
       "      <td>10.00 %</td>\n",
       "    </tr>\n",
       "    <tr>\n",
       "      <th>2</th>\n",
       "      <td>3</td>\n",
       "      <td>The University of Texas at Austin  Austin, TX</td>\n",
       "      <td>40%</td>\n",
       "      <td>52059</td>\n",
       "      <td>5.56 %</td>\n",
       "    </tr>\n",
       "    <tr>\n",
       "      <th>3</th>\n",
       "      <td>4</td>\n",
       "      <td>University of Minnesota-Twin Cities  Minneapol...</td>\n",
       "      <td>44%</td>\n",
       "      <td>51526</td>\n",
       "      <td>5.88 %</td>\n",
       "    </tr>\n",
       "    <tr>\n",
       "      <th>4</th>\n",
       "      <td>5</td>\n",
       "      <td>University of Arizona  Tucson, AZ</td>\n",
       "      <td>77%</td>\n",
       "      <td>40621</td>\n",
       "      <td>4.76 %</td>\n",
       "    </tr>\n",
       "    <tr>\n",
       "      <th>5</th>\n",
       "      <td>6</td>\n",
       "      <td>University of Maryland-College Park  College P...</td>\n",
       "      <td>47%</td>\n",
       "      <td>37272</td>\n",
       "      <td>5.56 %</td>\n",
       "    </tr>\n",
       "    <tr>\n",
       "      <th>6</th>\n",
       "      <td>6</td>\n",
       "      <td>University of Pennsylvania  Philadelphia, PA</td>\n",
       "      <td>12%</td>\n",
       "      <td>24630</td>\n",
       "      <td>16.67 %</td>\n",
       "    </tr>\n",
       "    <tr>\n",
       "      <th>7</th>\n",
       "      <td>8</td>\n",
       "      <td>New York University  New York, NY</td>\n",
       "      <td>26%</td>\n",
       "      <td>44599</td>\n",
       "      <td>10.00 %</td>\n",
       "    </tr>\n",
       "    <tr>\n",
       "      <th>8</th>\n",
       "      <td>9</td>\n",
       "      <td>Stanford University  Stanford, CA</td>\n",
       "      <td>6%</td>\n",
       "      <td>18346</td>\n",
       "      <td>9.09 %</td>\n",
       "    </tr>\n",
       "    <tr>\n",
       "      <th>9</th>\n",
       "      <td>10</td>\n",
       "      <td>Georgia State University  Atlanta, GA</td>\n",
       "      <td>55%</td>\n",
       "      <td>32165</td>\n",
       "      <td>4.55 %</td>\n",
       "    </tr>\n",
       "    <tr>\n",
       "      <th>10</th>\n",
       "      <td>10</td>\n",
       "      <td>Indiana University-Bloomington  Bloomington, IN</td>\n",
       "      <td>72%</td>\n",
       "      <td>46817</td>\n",
       "      <td>5.56 %</td>\n",
       "    </tr>\n",
       "  </tbody>\n",
       "</table>\n",
       "</div>"
      ],
      "text/plain": [
       "    Rank                                               Name Acceptance Rates  \\\n",
       "0      1  Massachusetts Institute of Technology  Cambrid...               8%   \n",
       "1      2         Carnegie Mellon University  Pittsburgh, PA              25%   \n",
       "2      3      The University of Texas at Austin  Austin, TX              40%   \n",
       "3      4  University of Minnesota-Twin Cities  Minneapol...              44%   \n",
       "4      5                  University of Arizona  Tucson, AZ              77%   \n",
       "5      6  University of Maryland-College Park  College P...              47%   \n",
       "6      6       University of Pennsylvania  Philadelphia, PA              12%   \n",
       "7      8                  New York University  New York, NY              26%   \n",
       "8      9                  Stanford University  Stanford, CA               6%   \n",
       "9     10              Georgia State University  Atlanta, GA              55%   \n",
       "10    10    Indiana University-Bloomington  Bloomington, IN              72%   \n",
       "\n",
       "    Population Student Faculty Ratio  \n",
       "0        11301               12.50 %  \n",
       "1        12367               10.00 %  \n",
       "2        52059                5.56 %  \n",
       "3        51526                5.88 %  \n",
       "4        40621                4.76 %  \n",
       "5        37272                5.56 %  \n",
       "6        24630               16.67 %  \n",
       "7        44599               10.00 %  \n",
       "8        18346                9.09 %  \n",
       "9        32165                4.55 %  \n",
       "10       46817                5.56 %  "
      ]
     },
     "execution_count": 10,
     "metadata": {},
     "output_type": "execute_result"
    }
   ],
   "source": [
    "read_data"
   ]
  },
  {
   "cell_type": "code",
   "execution_count": 11,
   "metadata": {
    "collapsed": false
   },
   "outputs": [
    {
     "data": {
      "text/plain": [
       "Rank                      int64\n",
       "Name                     object\n",
       "Acceptance Rates         object\n",
       "Population                int64\n",
       "Student Faculty Ratio    object\n",
       "dtype: object"
      ]
     },
     "execution_count": 11,
     "metadata": {},
     "output_type": "execute_result"
    }
   ],
   "source": [
    "read_data.dtypes"
   ]
  },
  {
   "cell_type": "code",
   "execution_count": 15,
   "metadata": {
    "collapsed": false
   },
   "outputs": [],
   "source": [
    "df = pd.DataFrame(read_data)"
   ]
  },
  {
   "cell_type": "code",
   "execution_count": 18,
   "metadata": {
    "collapsed": true
   },
   "outputs": [],
   "source": [
    "df.to_csv('acceptance_stats_1', index=False, encoding='utf-8')"
   ]
  },
  {
   "cell_type": "code",
   "execution_count": null,
   "metadata": {
    "collapsed": true
   },
   "outputs": [],
   "source": []
  }
 ],
 "metadata": {
  "kernelspec": {
   "display_name": "Python 2",
   "language": "python",
   "name": "python2"
  },
  "language_info": {
   "codemirror_mode": {
    "name": "ipython",
    "version": 2
   },
   "file_extension": ".py",
   "mimetype": "text/x-python",
   "name": "python",
   "nbconvert_exporter": "python",
   "pygments_lexer": "ipython2",
   "version": "2.7.13"
  }
 },
 "nbformat": 4,
 "nbformat_minor": 2
}
